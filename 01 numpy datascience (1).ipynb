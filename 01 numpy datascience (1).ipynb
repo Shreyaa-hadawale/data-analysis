{
 "cells": [
  {
   "cell_type": "code",
   "execution_count": 1,
   "id": "b5bb572f-e2c4-4fd8-853b-aa42116baa86",
   "metadata": {},
   "outputs": [],
   "source": [
    "import numpy as np"
   ]
  },
  {
   "cell_type": "code",
   "execution_count": 3,
   "id": "32db728d-dc66-4477-8cbe-2dc40aab5a2c",
   "metadata": {},
   "outputs": [],
   "source": [
    "arr =  np.array([23 ,34, 45,67,78])"
   ]
  },
  {
   "cell_type": "code",
   "execution_count": 4,
   "id": "c642971f-4fc4-44ca-9f96-3b7f4dc5d748",
   "metadata": {},
   "outputs": [
    {
     "name": "stdout",
     "output_type": "stream",
     "text": [
      "[23 34 45 67 78]\n"
     ]
    }
   ],
   "source": [
    "print(arr)"
   ]
  },
  {
   "cell_type": "code",
   "execution_count": 5,
   "id": "6dadb1ad-428f-475e-9b68-21c1cccf2f6d",
   "metadata": {},
   "outputs": [
    {
     "data": {
      "text/plain": [
       "numpy.ndarray"
      ]
     },
     "execution_count": 5,
     "metadata": {},
     "output_type": "execute_result"
    }
   ],
   "source": [
    "type(arr)"
   ]
  },
  {
   "cell_type": "code",
   "execution_count": 6,
   "id": "1cf64eb7-f7a8-4040-887c-51991228bef8",
   "metadata": {},
   "outputs": [
    {
     "data": {
      "text/plain": [
       "45"
      ]
     },
     "execution_count": 6,
     "metadata": {},
     "output_type": "execute_result"
    }
   ],
   "source": [
    "arr[2]"
   ]
  },
  {
   "cell_type": "code",
   "execution_count": 10,
   "id": "2d131d0d-c8d2-4863-af26-0210bd1c8e1e",
   "metadata": {},
   "outputs": [],
   "source": [
    "arr[2]=100"
   ]
  },
  {
   "cell_type": "code",
   "execution_count": 11,
   "id": "6b232bb3-e3b3-4315-9c7b-909c4de95c9e",
   "metadata": {},
   "outputs": [
    {
     "name": "stdout",
     "output_type": "stream",
     "text": [
      "[ 23  34 100  67  78]\n"
     ]
    }
   ],
   "source": [
    "print(arr)"
   ]
  },
  {
   "cell_type": "code",
   "execution_count": 13,
   "id": "1d47805f-e3ae-4b60-9c41-c40ca0ded1c5",
   "metadata": {},
   "outputs": [],
   "source": [
    "arr1 = np.array([23 , 56.78 ,'pune',True])"
   ]
  },
  {
   "cell_type": "code",
   "execution_count": 14,
   "id": "7b38dfab-800f-4ff1-83cf-bb69f0d734ba",
   "metadata": {},
   "outputs": [
    {
     "data": {
      "text/plain": [
       "array(['23', '56.78', 'pune', 'True'], dtype='<U32')"
      ]
     },
     "execution_count": 14,
     "metadata": {},
     "output_type": "execute_result"
    }
   ],
   "source": [
    "arr1"
   ]
  },
  {
   "cell_type": "code",
   "execution_count": 16,
   "id": "2e80c2bb-cc4e-4d56-9148-f85ed4c8a970",
   "metadata": {},
   "outputs": [
    {
     "data": {
      "text/plain": [
       "dtype('<U32')"
      ]
     },
     "execution_count": 16,
     "metadata": {},
     "output_type": "execute_result"
    }
   ],
   "source": [
    "arr1.dtype"
   ]
  },
  {
   "cell_type": "markdown",
   "id": "be2fce08-7d48-4ef4-8864-8d38d060431b",
   "metadata": {},
   "source": [
    "#### Check which is faster list or array"
   ]
  },
  {
   "cell_type": "code",
   "execution_count": 18,
   "id": "6e8d7d1d-f36d-44c8-a6fc-4aa080f04fb0",
   "metadata": {},
   "outputs": [],
   "source": [
    "import time"
   ]
  },
  {
   "cell_type": "code",
   "execution_count": 19,
   "id": "fc746669-4785-4206-8a23-4678dd4b057c",
   "metadata": {},
   "outputs": [
    {
     "data": {
      "text/plain": [
       "1750657513.8711634"
      ]
     },
     "execution_count": 19,
     "metadata": {},
     "output_type": "execute_result"
    }
   ],
   "source": [
    "time.time()"
   ]
  },
  {
   "cell_type": "code",
   "execution_count": 20,
   "id": "5ff4aee7-a67b-4a56-ba41-60a9d76dd2c9",
   "metadata": {},
   "outputs": [],
   "source": [
    "s = 100000\n",
    "\n",
    "list1 = list(range(s))\n",
    "\n",
    "arr1 = np.array(list)"
   ]
  },
  {
   "cell_type": "code",
   "execution_count": 21,
   "id": "21d98fe1-b1bd-483f-b369-91512f60c1df",
   "metadata": {},
   "outputs": [
    {
     "data": {
      "text/plain": [
       "array(<class 'list'>, dtype=object)"
      ]
     },
     "execution_count": 21,
     "metadata": {},
     "output_type": "execute_result"
    }
   ],
   "source": [
    "arr1"
   ]
  },
  {
   "cell_type": "code",
   "execution_count": 24,
   "id": "2465aa01-4d94-497e-af4d-9937aa22d27a",
   "metadata": {},
   "outputs": [
    {
     "name": "stdout",
     "output_type": "stream",
     "text": [
      "time taken by list: 0.007646083831787109\n"
     ]
    }
   ],
   "source": [
    "# for list\n",
    "start_time=time.time()\n",
    "x =  [i * 2 for i in list1]\n",
    "time_list = time.time()-start_time\n",
    "print('time taken by list:' , time_list)"
   ]
  },
  {
   "cell_type": "code",
   "execution_count": null,
   "id": "53afa6d3-fa29-474a-9f62-af5884f9b720",
   "metadata": {},
   "outputs": [],
   "source": [
    "arr1 ="
   ]
  },
  {
   "cell_type": "code",
   "execution_count": 28,
   "id": "631fefa3-c521-4808-bd61-60da30642333",
   "metadata": {},
   "outputs": [
    {
     "name": "stdout",
     "output_type": "stream",
     "text": [
      "time taken by list: 0.0005984306335449219\n"
     ]
    }
   ],
   "source": [
    "# for array\n",
    "start_time=time.time()\n",
    "y =  arr1 * 2\n",
    "time_arr = time.time()-start_time\n",
    "print('time taken by list:' , time_arr)"
   ]
  },
  {
   "cell_type": "code",
   "execution_count": 27,
   "id": "d888009e-394b-487b-8308-1084db67d709",
   "metadata": {},
   "outputs": [],
   "source": [
    "arr1 = np.array([10 ,20 ,30, 40 , 50])"
   ]
  },
  {
   "cell_type": "code",
   "execution_count": 29,
   "id": "f45fc884-4fa6-422b-9945-3bfc719e18ce",
   "metadata": {},
   "outputs": [
    {
     "data": {
      "text/plain": [
       "12.776892430278885"
      ]
     },
     "execution_count": 29,
     "metadata": {},
     "output_type": "execute_result"
    }
   ],
   "source": [
    "time_list/time_arr"
   ]
  },
  {
   "cell_type": "code",
   "execution_count": 33,
   "id": "e1775659-a019-4625-b1d9-a552d3c4a62f",
   "metadata": {},
   "outputs": [],
   "source": [
    "import numpy as np\n",
    "a = np.arange(11)"
   ]
  },
  {
   "cell_type": "code",
   "execution_count": 34,
   "id": "222876e3-e1ba-4429-869e-bdf571a439dd",
   "metadata": {},
   "outputs": [
    {
     "data": {
      "text/plain": [
       "array([0., 0., 0., 0., 0., 0., 0., 0., 0.])"
      ]
     },
     "execution_count": 34,
     "metadata": {},
     "output_type": "execute_result"
    }
   ],
   "source": [
    "np.zeros(9)"
   ]
  },
  {
   "cell_type": "code",
   "execution_count": 35,
   "id": "839daf52-ca58-4b18-822e-fefe119b1c8c",
   "metadata": {},
   "outputs": [
    {
     "data": {
      "text/plain": [
       "array([1., 1., 1., 1., 1., 1., 1., 1., 1., 1.])"
      ]
     },
     "execution_count": 35,
     "metadata": {},
     "output_type": "execute_result"
    }
   ],
   "source": [
    "np.ones(10)"
   ]
  },
  {
   "cell_type": "code",
   "execution_count": 36,
   "id": "b6193a41-13c8-4bd3-9b9e-9e92a01ea7a6",
   "metadata": {},
   "outputs": [
    {
     "data": {
      "text/plain": [
       "array([ 5,  6,  7,  8,  9, 10, 11, 12, 13, 14])"
      ]
     },
     "execution_count": 36,
     "metadata": {},
     "output_type": "execute_result"
    }
   ],
   "source": [
    "np.arange(5,15)"
   ]
  },
  {
   "cell_type": "code",
   "execution_count": 37,
   "id": "94f9ca74-a55f-4276-8781-e90b9d2e3fca",
   "metadata": {},
   "outputs": [
    {
     "data": {
      "text/plain": [
       "array([ 23,  34, 100,  67,  78])"
      ]
     },
     "execution_count": 37,
     "metadata": {},
     "output_type": "execute_result"
    }
   ],
   "source": [
    "arr"
   ]
  },
  {
   "cell_type": "code",
   "execution_count": 38,
   "id": "fe6f8ee1-f312-410b-9647-4889c64e09aa",
   "metadata": {},
   "outputs": [
    {
     "data": {
      "text/plain": [
       "1"
      ]
     },
     "execution_count": 38,
     "metadata": {},
     "output_type": "execute_result"
    }
   ],
   "source": [
    "arr.ndim"
   ]
  },
  {
   "cell_type": "markdown",
   "id": "ac817a8e-3fd5-48ae-826c-9d363be9cafd",
   "metadata": {},
   "source": [
    "# 2 - d array"
   ]
  },
  {
   "cell_type": "code",
   "execution_count": 40,
   "id": "459a797c-7a8b-4a9f-85b4-4efee3f13b02",
   "metadata": {},
   "outputs": [],
   "source": [
    "arr = np.array([[1 , 2 , 3],[4 , 5 , 6],[7 , 8 ,9]])"
   ]
  },
  {
   "cell_type": "code",
   "execution_count": 41,
   "id": "16af5e9a-5cf2-4cb5-821b-a2b73476cf64",
   "metadata": {},
   "outputs": [
    {
     "data": {
      "text/plain": [
       "array([[1, 2, 3],\n",
       "       [4, 5, 6],\n",
       "       [7, 8, 9]])"
      ]
     },
     "execution_count": 41,
     "metadata": {},
     "output_type": "execute_result"
    }
   ],
   "source": [
    "arr"
   ]
  },
  {
   "cell_type": "code",
   "execution_count": 42,
   "id": "172092e9-764c-4617-bcb1-17aa1ccad0b5",
   "metadata": {},
   "outputs": [
    {
     "data": {
      "text/plain": [
       "2"
      ]
     },
     "execution_count": 42,
     "metadata": {},
     "output_type": "execute_result"
    }
   ],
   "source": [
    "arr.ndim"
   ]
  },
  {
   "cell_type": "code",
   "execution_count": 44,
   "id": "ab7f7868-f316-4a00-904b-59f34549f57d",
   "metadata": {},
   "outputs": [
    {
     "data": {
      "text/plain": [
       "9"
      ]
     },
     "execution_count": 44,
     "metadata": {},
     "output_type": "execute_result"
    }
   ],
   "source": [
    "arr.size"
   ]
  },
  {
   "cell_type": "code",
   "execution_count": 45,
   "id": "538183c5-2174-4cf8-a7a6-3b5dc853b24e",
   "metadata": {},
   "outputs": [
    {
     "data": {
      "text/plain": [
       "(3, 3)"
      ]
     },
     "execution_count": 45,
     "metadata": {},
     "output_type": "execute_result"
    }
   ],
   "source": [
    "arr.shape"
   ]
  },
  {
   "cell_type": "code",
   "execution_count": 46,
   "id": "35b54e23-97d6-4198-9689-30a920cc0d8a",
   "metadata": {},
   "outputs": [
    {
     "data": {
      "text/plain": [
       "array([1, 2, 3, 4, 5, 6, 7, 8, 9])"
      ]
     },
     "execution_count": 46,
     "metadata": {},
     "output_type": "execute_result"
    }
   ],
   "source": [
    "arr.flatten()"
   ]
  },
  {
   "cell_type": "code",
   "execution_count": 47,
   "id": "f1177cec-43ae-45cc-8b02-978b4e53e868",
   "metadata": {},
   "outputs": [
    {
     "data": {
      "text/plain": [
       "1"
      ]
     },
     "execution_count": 47,
     "metadata": {},
     "output_type": "execute_result"
    }
   ],
   "source": [
    "arr.flatten().ndim"
   ]
  },
  {
   "cell_type": "code",
   "execution_count": 48,
   "id": "326d581e-0fcf-47d6-940f-3ba6a559324d",
   "metadata": {},
   "outputs": [
    {
     "data": {
      "text/plain": [
       "array([[1, 2, 3],\n",
       "       [4, 5, 6],\n",
       "       [7, 8, 9]])"
      ]
     },
     "execution_count": 48,
     "metadata": {},
     "output_type": "execute_result"
    }
   ],
   "source": [
    "arr"
   ]
  },
  {
   "cell_type": "code",
   "execution_count": 52,
   "id": "dbe3dbe5-eb2d-43cf-b72d-08c4cae5047c",
   "metadata": {},
   "outputs": [
    {
     "data": {
      "text/plain": [
       "array([[1, 2, 3],\n",
       "       [4, 5, 6],\n",
       "       [7, 8, 9]])"
      ]
     },
     "execution_count": 52,
     "metadata": {},
     "output_type": "execute_result"
    }
   ],
   "source": [
    "arr.reshape(3,3)"
   ]
  },
  {
   "cell_type": "code",
   "execution_count": 53,
   "id": "d283e690-b77b-4948-8d55-8a3b194a4382",
   "metadata": {},
   "outputs": [],
   "source": [
    "arr = np.array([[1 , 2 , 3],[4 , 5 , 6],[7 , 8 ,9],[10 , 11 , 12]])"
   ]
  },
  {
   "cell_type": "code",
   "execution_count": 54,
   "id": "2b1d7793-e5b8-45fa-84d7-7ba70dab292d",
   "metadata": {},
   "outputs": [
    {
     "data": {
      "text/plain": [
       "array([[ 1,  2,  3],\n",
       "       [ 4,  5,  6],\n",
       "       [ 7,  8,  9],\n",
       "       [10, 11, 12]])"
      ]
     },
     "execution_count": 54,
     "metadata": {},
     "output_type": "execute_result"
    }
   ],
   "source": [
    "arr"
   ]
  },
  {
   "cell_type": "code",
   "execution_count": 55,
   "id": "5b6f7a6c-b0ea-4d22-a4c2-6d192c1d512e",
   "metadata": {},
   "outputs": [
    {
     "data": {
      "text/plain": [
       "array([[[ 1,  2],\n",
       "        [ 3,  4]],\n",
       "\n",
       "       [[ 5,  6],\n",
       "        [ 7,  8]],\n",
       "\n",
       "       [[ 9, 10],\n",
       "        [11, 12]]])"
      ]
     },
     "execution_count": 55,
     "metadata": {},
     "output_type": "execute_result"
    }
   ],
   "source": [
    "arr.reshape(3,2,2)"
   ]
  },
  {
   "cell_type": "markdown",
   "id": "336721e0-9fe7-472f-a86e-f8e5ad882b5d",
   "metadata": {},
   "source": [
    "##### Slicing"
   ]
  },
  {
   "cell_type": "code",
   "execution_count": 58,
   "id": "a82de41a-702d-482a-b52a-179cd8fd53cc",
   "metadata": {},
   "outputs": [],
   "source": [
    "arr1 = np.array([1 , 2 ,3 , 4 , 5 , 6])"
   ]
  },
  {
   "cell_type": "code",
   "execution_count": 59,
   "id": "2b861687-eb99-41d9-a983-06e8b64c648f",
   "metadata": {},
   "outputs": [
    {
     "data": {
      "text/plain": [
       "array([4, 5])"
      ]
     },
     "execution_count": 59,
     "metadata": {},
     "output_type": "execute_result"
    }
   ],
   "source": [
    "arr1[3:5]"
   ]
  },
  {
   "cell_type": "code",
   "execution_count": 60,
   "id": "9f94d8af-ef35-4fe4-8cb1-41f291762285",
   "metadata": {},
   "outputs": [
    {
     "data": {
      "text/plain": [
       "array([[ 1,  2,  3],\n",
       "       [ 4,  5,  6],\n",
       "       [ 7,  8,  9],\n",
       "       [10, 11, 12]])"
      ]
     },
     "execution_count": 60,
     "metadata": {},
     "output_type": "execute_result"
    }
   ],
   "source": [
    "arr"
   ]
  },
  {
   "cell_type": "code",
   "execution_count": 63,
   "id": "6186f2c1-64d5-4fdd-9f3b-9b8a378a0c4a",
   "metadata": {},
   "outputs": [
    {
     "data": {
      "text/plain": [
       "array([[4, 5],\n",
       "       [7, 8]])"
      ]
     },
     "execution_count": 63,
     "metadata": {},
     "output_type": "execute_result"
    }
   ],
   "source": [
    "arr[1:3 , 0:2]"
   ]
  },
  {
   "cell_type": "code",
   "execution_count": 64,
   "id": "b2a08869-5a59-4db2-8276-2f96fce3d4a5",
   "metadata": {},
   "outputs": [
    {
     "data": {
      "text/plain": [
       "array([[4, 5, 6],\n",
       "       [7, 8, 9]])"
      ]
     },
     "execution_count": 64,
     "metadata": {},
     "output_type": "execute_result"
    }
   ],
   "source": [
    "arr[1:3 , 0:3]"
   ]
  },
  {
   "cell_type": "code",
   "execution_count": 65,
   "id": "d850cddc-8974-4af8-b0dc-f9348774db8f",
   "metadata": {},
   "outputs": [
    {
     "data": {
      "text/plain": [
       "3.5"
      ]
     },
     "execution_count": 65,
     "metadata": {},
     "output_type": "execute_result"
    }
   ],
   "source": [
    "np.mean(arr1)"
   ]
  },
  {
   "cell_type": "code",
   "execution_count": 66,
   "id": "de612529-b097-4710-ae44-c071508c696b",
   "metadata": {},
   "outputs": [
    {
     "data": {
      "text/plain": [
       "1.707825127659933"
      ]
     },
     "execution_count": 66,
     "metadata": {},
     "output_type": "execute_result"
    }
   ],
   "source": [
    "np.std(arr1)"
   ]
  },
  {
   "cell_type": "markdown",
   "id": "2d1f8017-9870-4f68-8d52-7b9a1d9e0282",
   "metadata": {},
   "source": [
    "#### Linear alg"
   ]
  },
  {
   "cell_type": "code",
   "execution_count": 69,
   "id": "f1e69eff-8760-4ec1-943f-2a581d025d09",
   "metadata": {},
   "outputs": [],
   "source": [
    "a = np.array([[1 , 2], [3 ,4]])"
   ]
  },
  {
   "cell_type": "code",
   "execution_count": 70,
   "id": "9b35ee34-70a4-471f-b243-15d7f25312ef",
   "metadata": {},
   "outputs": [],
   "source": [
    "b = np.array([[5 , 6], [7 ,8]])"
   ]
  },
  {
   "cell_type": "code",
   "execution_count": 71,
   "id": "d5fadef4-3c5f-46e3-b7c7-eef14f70c755",
   "metadata": {},
   "outputs": [
    {
     "data": {
      "text/plain": [
       "array([[1, 2],\n",
       "       [3, 4]])"
      ]
     },
     "execution_count": 71,
     "metadata": {},
     "output_type": "execute_result"
    }
   ],
   "source": [
    "a"
   ]
  },
  {
   "cell_type": "code",
   "execution_count": 72,
   "id": "7192caa2-2ea7-4815-90b2-f82db4b72b46",
   "metadata": {},
   "outputs": [
    {
     "data": {
      "text/plain": [
       "array([[5, 6],\n",
       "       [7, 8]])"
      ]
     },
     "execution_count": 72,
     "metadata": {},
     "output_type": "execute_result"
    }
   ],
   "source": [
    "b"
   ]
  },
  {
   "cell_type": "code",
   "execution_count": 74,
   "id": "2fff1ef8-73aa-4f1d-bc9c-8d6d4a991b67",
   "metadata": {},
   "outputs": [
    {
     "data": {
      "text/plain": [
       "array([[19, 22],\n",
       "       [43, 50]])"
      ]
     },
     "execution_count": 74,
     "metadata": {},
     "output_type": "execute_result"
    }
   ],
   "source": [
    "np.dot(a , b)"
   ]
  },
  {
   "cell_type": "code",
   "execution_count": 75,
   "id": "0f280af9-b020-4deb-a31b-e2131fc5ea92",
   "metadata": {},
   "outputs": [
    {
     "data": {
      "text/plain": [
       "array([[19, 22],\n",
       "       [43, 50]])"
      ]
     },
     "execution_count": 75,
     "metadata": {},
     "output_type": "execute_result"
    }
   ],
   "source": [
    "a @ b"
   ]
  },
  {
   "cell_type": "code",
   "execution_count": 76,
   "id": "5e6a6a33-9f13-4bcc-b0fa-66674d640f11",
   "metadata": {},
   "outputs": [
    {
     "data": {
      "text/plain": [
       "-2.0000000000000004"
      ]
     },
     "execution_count": 76,
     "metadata": {},
     "output_type": "execute_result"
    }
   ],
   "source": [
    "np.linalg.det(a)"
   ]
  },
  {
   "cell_type": "code",
   "execution_count": 77,
   "id": "efbbe82b-2a7a-458b-95d2-856d3dd36c13",
   "metadata": {},
   "outputs": [
    {
     "data": {
      "text/plain": [
       "array([[-2. ,  1. ],\n",
       "       [ 1.5, -0.5]])"
      ]
     },
     "execution_count": 77,
     "metadata": {},
     "output_type": "execute_result"
    }
   ],
   "source": [
    "np.linalg.inv(a)"
   ]
  },
  {
   "cell_type": "code",
   "execution_count": 79,
   "id": "8670af9c-7fc6-467a-8b4d-378a4495dfbe",
   "metadata": {},
   "outputs": [],
   "source": [
    "# vector\n",
    "vec = np.array([3,6])"
   ]
  },
  {
   "cell_type": "code",
   "execution_count": 80,
   "id": "43439b2d-b944-48ed-8cf4-3f12a79223f0",
   "metadata": {},
   "outputs": [
    {
     "data": {
      "text/plain": [
       "6.708203932499369"
      ]
     },
     "execution_count": 80,
     "metadata": {},
     "output_type": "execute_result"
    }
   ],
   "source": [
    "np.linalg.norm(vec)"
   ]
  },
  {
   "cell_type": "code",
   "execution_count": 82,
   "id": "64b0c5f0-ce9b-450a-bc55-bfb5743d1ec4",
   "metadata": {},
   "outputs": [],
   "source": [
    "# 1\n",
    "arr = np.array([[1, 2 , 3],[4 , 5 , 6],[7 , 8 , 9]])"
   ]
  },
  {
   "cell_type": "code",
   "execution_count": 83,
   "id": "53f14ea3-5084-438d-be6c-c00dc3eac4f9",
   "metadata": {},
   "outputs": [
    {
     "data": {
      "text/plain": [
       "array([[1, 2, 3],\n",
       "       [4, 5, 6],\n",
       "       [7, 8, 9]])"
      ]
     },
     "execution_count": 83,
     "metadata": {},
     "output_type": "execute_result"
    }
   ],
   "source": [
    "arr"
   ]
  },
  {
   "cell_type": "code",
   "execution_count": 84,
   "id": "da5ac9ed-b900-4c7a-ae61-b48218240c11",
   "metadata": {},
   "outputs": [],
   "source": [
    "arr1 = np.array([10 , 20 , 30 , 40 , 50])"
   ]
  },
  {
   "cell_type": "code",
   "execution_count": 85,
   "id": "987a1e4f-2c0c-49dd-8d09-bc8cac058101",
   "metadata": {},
   "outputs": [
    {
     "data": {
      "text/plain": [
       "array([10, 20, 30, 40, 50])"
      ]
     },
     "execution_count": 85,
     "metadata": {},
     "output_type": "execute_result"
    }
   ],
   "source": [
    "arr1"
   ]
  },
  {
   "cell_type": "code",
   "execution_count": 87,
   "id": "40d141b4-a706-45be-911b-f61bd3e08b3d",
   "metadata": {},
   "outputs": [
    {
     "data": {
      "text/plain": [
       "array([50, 40, 30, 20, 10])"
      ]
     },
     "execution_count": 87,
     "metadata": {},
     "output_type": "execute_result"
    }
   ],
   "source": [
    "arr1[::-1]"
   ]
  },
  {
   "cell_type": "code",
   "execution_count": 92,
   "id": "3c9022f8-c5f9-483c-977f-ae0e116b6973",
   "metadata": {},
   "outputs": [],
   "source": [
    "arr2 = np.array([[0,0,0,0,0],[0,0,0,0,0],[0,0,1,0,0],[0,0,0,0,0],[0,0,0,0,0]])"
   ]
  },
  {
   "cell_type": "code",
   "execution_count": 93,
   "id": "6e7e11eb-6f9e-4c5e-a545-775a733048d5",
   "metadata": {},
   "outputs": [
    {
     "data": {
      "text/plain": [
       "array([[0, 0, 0, 0, 0],\n",
       "       [0, 0, 0, 0, 0],\n",
       "       [0, 0, 1, 0, 0],\n",
       "       [0, 0, 0, 0, 0],\n",
       "       [0, 0, 0, 0, 0]])"
      ]
     },
     "execution_count": 93,
     "metadata": {},
     "output_type": "execute_result"
    }
   ],
   "source": [
    "arr2"
   ]
  },
  {
   "cell_type": "code",
   "execution_count": 103,
   "id": "c4539e98-d270-40d0-9534-2453ba975111",
   "metadata": {},
   "outputs": [],
   "source": [
    "arr3 = np.array([12 , 34, 56, 67, 87, 13 , 54, 32 , 87, 98, 9, 56 ,31, 41 , 61, 37, 84, 19, 10, 20])"
   ]
  },
  {
   "cell_type": "code",
   "execution_count": 104,
   "id": "6d578ffb-59ab-4510-889a-2bfc2e0dcfd3",
   "metadata": {},
   "outputs": [
    {
     "data": {
      "text/plain": [
       "array([12, 34, 56, 67, 87, 13, 54, 32, 87, 98,  9, 56, 31, 41, 61, 37, 84,\n",
       "       19, 10, 20])"
      ]
     },
     "execution_count": 104,
     "metadata": {},
     "output_type": "execute_result"
    }
   ],
   "source": [
    "arr3"
   ]
  },
  {
   "cell_type": "code",
   "execution_count": 105,
   "id": "14189676-ec4c-4621-85df-36ea2b2b714b",
   "metadata": {},
   "outputs": [],
   "source": [
    "arr3[arr3 %2 == 0]=-1"
   ]
  },
  {
   "cell_type": "code",
   "execution_count": 106,
   "id": "93f2e2cf-e4e1-49e3-a528-cb1a870e39f2",
   "metadata": {},
   "outputs": [
    {
     "data": {
      "text/plain": [
       "array([-1, -1, -1, 67, 87, 13, -1, -1, 87, -1,  9, -1, 31, 41, 61, 37, -1,\n",
       "       19, -1, -1])"
      ]
     },
     "execution_count": 106,
     "metadata": {},
     "output_type": "execute_result"
    }
   ],
   "source": [
    "arr3"
   ]
  },
  {
   "cell_type": "code",
   "execution_count": 108,
   "id": "ea4e7677-cef7-41f6-8951-dfba8ece85eb",
   "metadata": {},
   "outputs": [],
   "source": [
    "a = np.array([[1 , 2], [ 3 , 4], [ 5, 6]])"
   ]
  },
  {
   "cell_type": "code",
   "execution_count": 109,
   "id": "a50cdeb4-b99a-4d9a-a0e7-41d8548797ee",
   "metadata": {},
   "outputs": [
    {
     "data": {
      "text/plain": [
       "array([[1, 2],\n",
       "       [3, 4],\n",
       "       [5, 6]])"
      ]
     },
     "execution_count": 109,
     "metadata": {},
     "output_type": "execute_result"
    }
   ],
   "source": [
    "a"
   ]
  },
  {
   "cell_type": "code",
   "execution_count": 120,
   "id": "1c2e3b36-0399-4122-afcc-2c33b9c69286",
   "metadata": {},
   "outputs": [
    {
     "data": {
      "text/plain": [
       "array([[3, 4]])"
      ]
     },
     "execution_count": 120,
     "metadata": {},
     "output_type": "execute_result"
    }
   ],
   "source": [
    "a[1:2 , :]"
   ]
  },
  {
   "cell_type": "code",
   "execution_count": 121,
   "id": "6bec67b8-672b-4259-b3a7-2e5ccf3f2d0a",
   "metadata": {},
   "outputs": [],
   "source": [
    "a = np.array([1 , 2 , 3 , 4])"
   ]
  },
  {
   "cell_type": "code",
   "execution_count": 122,
   "id": "bf2008b2-f02d-482e-a52a-3f5341b90ccf",
   "metadata": {},
   "outputs": [
    {
     "data": {
      "text/plain": [
       "array([[1, 2],\n",
       "       [3, 4]])"
      ]
     },
     "execution_count": 122,
     "metadata": {},
     "output_type": "execute_result"
    }
   ],
   "source": [
    "a.reshape(2,2)"
   ]
  },
  {
   "cell_type": "code",
   "execution_count": null,
   "id": "c41464d0-fc83-459a-9d8d-1f06109a3945",
   "metadata": {},
   "outputs": [],
   "source": []
  }
 ],
 "metadata": {
  "kernelspec": {
   "display_name": "Python [conda env:base] *",
   "language": "python",
   "name": "conda-base-py"
  },
  "language_info": {
   "codemirror_mode": {
    "name": "ipython",
    "version": 3
   },
   "file_extension": ".py",
   "mimetype": "text/x-python",
   "name": "python",
   "nbconvert_exporter": "python",
   "pygments_lexer": "ipython3",
   "version": "3.12.7"
  }
 },
 "nbformat": 4,
 "nbformat_minor": 5
}
